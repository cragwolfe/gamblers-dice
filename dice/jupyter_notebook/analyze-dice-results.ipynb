{
 "cells": [
  {
   "cell_type": "code",
   "execution_count": null,
   "metadata": {
    "collapsed": true
   },
   "outputs": [],
   "source": [
    "import numpy as np\n",
    "import pandas as pd"
   ]
  },
  {
   "cell_type": "code",
   "execution_count": null,
   "metadata": {
    "collapsed": true
   },
   "outputs": [],
   "source": [
    "df = pd.read_csv('../../data/dice-results.csv', header=None)\n",
    "df.columns = ['bias', 'rolls','norm-freq-stddev','roll-1-freq',\n",
    "    'roll-2-freq','roll-3-freq'\n",
    "              ,'roll-4-freq','roll-5-freq','roll-6-freq']\n",
    "#df.dtypes"
   ]
  },
  {
   "cell_type": "code",
   "execution_count": null,
   "metadata": {
    "scrolled": true
   },
   "outputs": [],
   "source": [
    "df.head(10)"
   ]
  },
  {
   "cell_type": "code",
   "execution_count": null,
   "metadata": {},
   "outputs": [],
   "source": [
    "by_bias_and_rolls = df.groupby(['bias', 'rolls'])\n",
    "by_bias = df.groupby(['bias'])"
   ]
  },
  {
   "cell_type": "code",
   "execution_count": null,
   "metadata": {},
   "outputs": [],
   "source": [
    "means = by_bias_and_rolls.mean()\n",
    "means"
   ]
  },
  {
   "cell_type": "code",
   "execution_count": null,
   "metadata": {
    "collapsed": true
   },
   "outputs": [],
   "source": [
    "# mean of grouped by values\n",
    "import math\n",
    "\n",
    "gambler_mean_rolls = []\n",
    "gambler_means = []\n",
    "fair_mean_rolls = []\n",
    "fair_means = []\n",
    "for mi in means.itertuples():\n",
    "    if mi.Index[0] == 'gambler':\n",
    "        gambler_mean_rolls.append(mi.Index[1])\n",
    "        gambler_means.append(mi[1])\n",
    "    else:\n",
    "        fair_mean_rolls.append(mi.Index[1])\n",
    "        fair_means.append(mi[1])\n",
    "\n",
    "# average of the averages\n",
    "#fair_mean_means = [np.mean(fair_means)] * len(fair_mean_rolls)\n",
    "#gambler_mean_means = [np.mean(gambler_means)] * len(gambler_mean_rolls)\n",
    "      \n",
    "fair_mean_means = 0.0\n",
    "gambler_mean_means = 0.0\n",
    "for r in by_bias.mean().itertuples():\n",
    "    if r[0] == 'gambler':\n",
    "        gambler_mean_means = [r[2]] * len(gambler_mean_rolls)\n",
    "    else:\n",
    "        fair_mean_means = [r[2]] * len(fair_mean_rolls)\n",
    "fair_mean_means\n",
    "gambler_mean_means\n",
    "\n",
    "    \n",
    "# not grouped, just all the roll, norm-std-dev pairs        \n",
    "gambler_rolls = []\n",
    "gambler_norm_stddevs = []\n",
    "fair_rolls = []\n",
    "fair_norm_stddevs = []\n",
    "\n",
    "for r in df.itertuples():\n",
    "    if r.bias == 'gambler':\n",
    "        gambler_rolls.append(r.rolls)\n",
    "        gambler_norm_stddevs.append(r[3])\n",
    "    else:\n",
    "        fair_rolls.append(r.rolls)\n",
    "        fair_norm_stddevs.append(r[3])"
   ]
  },
  {
   "cell_type": "code",
   "execution_count": null,
   "metadata": {},
   "outputs": [],
   "source": [
    "%matplotlib inline\n",
    "%pylab inline\n",
    "pylab.rcParams['figure.figsize'] = (10, 6)\n",
    "\n",
    "import matplotlib.pyplot as plt\n",
    "plt.xlabel('number of rolls')\n",
    "plt.ylabel('normalized std dev')\n",
    "plt.xscale('log')\n",
    "plt.plot(fair_mean_rolls, fair_means, color='blue', label='fair')\n",
    "plt.plot(gambler_mean_rolls, gambler_means, color='red', label='gambler')\n",
    "plt.plot(fair_mean_rolls, fair_mean_means, color='gray', label='%.3f' % fair_mean_means[0])\n",
    "plt.plot(gambler_mean_rolls, gambler_mean_means, color='gray', label='%.3f' % gambler_mean_means[0])\n",
    "plt.scatter(fair_rolls, fair_norm_stddevs, color='blue', s=ones(len(fair_rolls))*2)\n",
    "plt.scatter(gambler_rolls, gambler_norm_stddevs, color='red', s=ones(len(fair_rolls))*2)\n",
    "plt.legend()"
   ]
  },
  {
   "cell_type": "code",
   "execution_count": null,
   "metadata": {
    "collapsed": true
   },
   "outputs": [],
   "source": []
  }
 ],
 "metadata": {
  "kernelspec": {
   "display_name": "Python 3",
   "language": "python",
   "name": "python3"
  },
  "language_info": {
   "codemirror_mode": {
    "name": "ipython",
    "version": 2
   },
   "file_extension": ".py",
   "mimetype": "text/x-python",
   "name": "python",
   "nbconvert_exporter": "python",
   "pygments_lexer": "ipython2",
   "version": "2.7.12"
  }
 },
 "nbformat": 4,
 "nbformat_minor": 2
}
